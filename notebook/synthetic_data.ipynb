{
 "cells": [
  {
   "cell_type": "markdown",
   "metadata": {},
   "source": [
    "## Synthetic Data [Blip] Image to Text"
   ]
  },
  {
   "cell_type": "markdown",
   "metadata": {},
   "source": [
    "### Load model Blip2 Image to Text"
   ]
  },
  {
   "cell_type": "code",
   "execution_count": 5,
   "metadata": {},
   "outputs": [
    {
     "name": "stderr",
     "output_type": "stream",
     "text": [
      "/home/users/chokun_nap/miniconda3/envs/t2i/lib/python3.10/site-packages/transformers/tokenization_utils_base.py:1601: FutureWarning: `clean_up_tokenization_spaces` was not set. It will be set to `True` by default. This behavior will be depracted in transformers v4.45, and will be then set to `False` by default. For more details check this issue: https://github.com/huggingface/transformers/issues/31884\n",
      "  warnings.warn(\n",
      "Loading checkpoint shards: 100%|██████████| 4/4 [00:00<00:00,  4.18it/s]\n"
     ]
    }
   ],
   "source": [
    "# Load model directly\n",
    "from transformers import AutoProcessor, AutoModelForVisualQuestionAnswering\n",
    "from transformers import AutoConfig\n",
    "\n",
    "processor = AutoProcessor.from_pretrained(\"Salesforce/blip2-opt-6.7b\")\n",
    "model = AutoModelForVisualQuestionAnswering.from_pretrained(\"Salesforce/blip2-opt-6.7b\")\n",
    "\n",
    "# Load model from config\n",
    "model.config = AutoConfig.from_pretrained(\"Salesforce/blip2-opt-6.7b\")\n"
   ]
  },
  {
   "cell_type": "code",
   "execution_count": 8,
   "metadata": {},
   "outputs": [
    {
     "data": {
      "text/plain": [
       "['cudagraphs', 'inductor', 'onnxrt', 'openxla', 'openxla_eval', 'tvm']"
      ]
     },
     "execution_count": 8,
     "metadata": {},
     "output_type": "execute_result"
    }
   ],
   "source": [
    "import torch\n",
    "torch._dynamo.list_backends()"
   ]
  },
  {
   "cell_type": "code",
   "execution_count": 6,
   "metadata": {},
   "outputs": [
    {
     "data": {
      "text/plain": [
       "'2.3.1+cu121'"
      ]
     },
     "execution_count": 6,
     "metadata": {},
     "output_type": "execute_result"
    }
   ],
   "source": [
    "import torchaudio\n",
    "torchaudio.__version__"
   ]
  },
  {
   "cell_type": "code",
   "execution_count": 7,
   "metadata": {},
   "outputs": [
    {
     "name": "stdout",
     "output_type": "stream",
     "text": [
      "Collecting torch-tensorrt\n",
      "  Using cached torch_tensorrt-2.4.0-cp310-cp310-manylinux_2_17_x86_64.manylinux2014_x86_64.manylinux_2_34_x86_64.whl.metadata (16 kB)\n",
      "Requirement already satisfied: torch==2.3.1 in /home/users/chokun_nap/miniconda3/envs/t2i/lib/python3.10/site-packages (2.3.1)\n",
      "Requirement already satisfied: torchvision==0.18.1 in /home/users/chokun_nap/miniconda3/envs/t2i/lib/python3.10/site-packages (0.18.1)\n",
      "Requirement already satisfied: torchaudio==2.3.1 in /home/users/chokun_nap/miniconda3/envs/t2i/lib/python3.10/site-packages (2.3.1)\n",
      "Requirement already satisfied: filelock in /home/users/chokun_nap/miniconda3/envs/t2i/lib/python3.10/site-packages (from torch==2.3.1) (3.15.4)\n",
      "Requirement already satisfied: typing-extensions>=4.8.0 in /home/users/chokun_nap/miniconda3/envs/t2i/lib/python3.10/site-packages (from torch==2.3.1) (4.12.2)\n",
      "Requirement already satisfied: sympy in /home/users/chokun_nap/miniconda3/envs/t2i/lib/python3.10/site-packages (from torch==2.3.1) (1.13.2)\n",
      "Requirement already satisfied: networkx in /home/users/chokun_nap/miniconda3/envs/t2i/lib/python3.10/site-packages (from torch==2.3.1) (3.3)\n",
      "Requirement already satisfied: jinja2 in /home/users/chokun_nap/miniconda3/envs/t2i/lib/python3.10/site-packages (from torch==2.3.1) (3.1.4)\n",
      "Requirement already satisfied: fsspec in /home/users/chokun_nap/miniconda3/envs/t2i/lib/python3.10/site-packages (from torch==2.3.1) (2024.6.1)\n",
      "Requirement already satisfied: nvidia-cuda-nvrtc-cu12==12.1.105 in /home/users/chokun_nap/miniconda3/envs/t2i/lib/python3.10/site-packages (from torch==2.3.1) (12.1.105)\n",
      "Requirement already satisfied: nvidia-cuda-runtime-cu12==12.1.105 in /home/users/chokun_nap/miniconda3/envs/t2i/lib/python3.10/site-packages (from torch==2.3.1) (12.1.105)\n",
      "Requirement already satisfied: nvidia-cuda-cupti-cu12==12.1.105 in /home/users/chokun_nap/miniconda3/envs/t2i/lib/python3.10/site-packages (from torch==2.3.1) (12.1.105)\n",
      "Requirement already satisfied: nvidia-cudnn-cu12==8.9.2.26 in /home/users/chokun_nap/miniconda3/envs/t2i/lib/python3.10/site-packages (from torch==2.3.1) (8.9.2.26)\n",
      "Requirement already satisfied: nvidia-cublas-cu12==12.1.3.1 in /home/users/chokun_nap/miniconda3/envs/t2i/lib/python3.10/site-packages (from torch==2.3.1) (12.1.3.1)\n",
      "Requirement already satisfied: nvidia-cufft-cu12==11.0.2.54 in /home/users/chokun_nap/miniconda3/envs/t2i/lib/python3.10/site-packages (from torch==2.3.1) (11.0.2.54)\n",
      "Requirement already satisfied: nvidia-curand-cu12==10.3.2.106 in /home/users/chokun_nap/miniconda3/envs/t2i/lib/python3.10/site-packages (from torch==2.3.1) (10.3.2.106)\n",
      "Requirement already satisfied: nvidia-cusolver-cu12==11.4.5.107 in /home/users/chokun_nap/miniconda3/envs/t2i/lib/python3.10/site-packages (from torch==2.3.1) (11.4.5.107)\n",
      "Requirement already satisfied: nvidia-cusparse-cu12==12.1.0.106 in /home/users/chokun_nap/miniconda3/envs/t2i/lib/python3.10/site-packages (from torch==2.3.1) (12.1.0.106)\n",
      "Requirement already satisfied: nvidia-nccl-cu12==2.20.5 in /home/users/chokun_nap/miniconda3/envs/t2i/lib/python3.10/site-packages (from torch==2.3.1) (2.20.5)\n",
      "Requirement already satisfied: nvidia-nvtx-cu12==12.1.105 in /home/users/chokun_nap/miniconda3/envs/t2i/lib/python3.10/site-packages (from torch==2.3.1) (12.1.105)\n",
      "Requirement already satisfied: triton==2.3.1 in /home/users/chokun_nap/miniconda3/envs/t2i/lib/python3.10/site-packages (from torch==2.3.1) (2.3.1)\n",
      "Requirement already satisfied: numpy in /home/users/chokun_nap/miniconda3/envs/t2i/lib/python3.10/site-packages (from torchvision==0.18.1) (1.26.4)\n",
      "Requirement already satisfied: pillow!=8.3.*,>=5.3.0 in /home/users/chokun_nap/miniconda3/envs/t2i/lib/python3.10/site-packages (from torchvision==0.18.1) (10.4.0)\n",
      "Requirement already satisfied: nvidia-nvjitlink-cu12 in /home/users/chokun_nap/miniconda3/envs/t2i/lib/python3.10/site-packages (from nvidia-cusolver-cu12==11.4.5.107->torch==2.3.1) (12.6.20)\n",
      "INFO: pip is looking at multiple versions of torch-tensorrt to determine which version is compatible with other requirements. This could take a while.\n",
      "  Using cached torch_tensorrt-2.3.0-cp310-cp310-manylinux_2_17_x86_64.manylinux2014_x86_64.manylinux_2_34_x86_64.whl.metadata (16 kB)\n",
      "Requirement already satisfied: tensorrt<10.1.0,>=10.0.0 in /home/users/chokun_nap/miniconda3/envs/t2i/lib/python3.10/site-packages (from torch-tensorrt) (10.0.1)\n",
      "Requirement already satisfied: packaging>=23 in /home/users/chokun_nap/miniconda3/envs/t2i/lib/python3.10/site-packages (from torch-tensorrt) (24.1)\n",
      "Requirement already satisfied: tensorrt-cu12 in /home/users/chokun_nap/miniconda3/envs/t2i/lib/python3.10/site-packages (from tensorrt<10.1.0,>=10.0.0->torch-tensorrt) (10.3.0)\n",
      "Requirement already satisfied: MarkupSafe>=2.0 in /home/users/chokun_nap/miniconda3/envs/t2i/lib/python3.10/site-packages (from jinja2->torch==2.3.1) (2.1.5)\n",
      "Requirement already satisfied: mpmath<1.4,>=1.1.0 in /home/users/chokun_nap/miniconda3/envs/t2i/lib/python3.10/site-packages (from sympy->torch==2.3.1) (1.3.0)\n",
      "Using cached torch_tensorrt-2.3.0-cp310-cp310-manylinux_2_17_x86_64.manylinux2014_x86_64.manylinux_2_34_x86_64.whl (18.3 MB)\n",
      "Installing collected packages: torch-tensorrt\n",
      "Successfully installed torch-tensorrt-2.3.0\n"
     ]
    }
   ],
   "source": [
    "!pip install torch-tensorrt torch==2.3.1 torchvision==0.18.1 torchaudio==2.3.1"
   ]
  },
  {
   "cell_type": "code",
   "execution_count": 2,
   "metadata": {},
   "outputs": [
    {
     "name": "stderr",
     "output_type": "stream",
     "text": [
      "WARNING:torch_tensorrt.dynamo.conversion.aten_ops_converters:Unable to import quantization op. Please install modelopt library (https://github.com/NVIDIA/TensorRT-Model-Optimizer?tab=readme-ov-file#installation) to add support for compiling quantized models\n"
     ]
    },
    {
     "data": {
      "text/plain": [
       "['aot_torch_tensorrt_aten',\n",
       " 'cudagraphs',\n",
       " 'inductor',\n",
       " 'onnxrt',\n",
       " 'openxla',\n",
       " 'openxla_eval',\n",
       " 'tensorrt',\n",
       " 'torch_tensorrt',\n",
       " 'tvm']"
      ]
     },
     "execution_count": 2,
     "metadata": {},
     "output_type": "execute_result"
    }
   ],
   "source": [
    "import torch\n",
    "import torch_tensorrt\n",
    "torch._dynamo.list_backends()"
   ]
  }
 ],
 "metadata": {
  "kernelspec": {
   "display_name": "t2i",
   "language": "python",
   "name": "python3"
  },
  "language_info": {
   "codemirror_mode": {
    "name": "ipython",
    "version": 3
   },
   "file_extension": ".py",
   "mimetype": "text/x-python",
   "name": "python",
   "nbconvert_exporter": "python",
   "pygments_lexer": "ipython3",
   "version": "3.10.0"
  }
 },
 "nbformat": 4,
 "nbformat_minor": 2
}
